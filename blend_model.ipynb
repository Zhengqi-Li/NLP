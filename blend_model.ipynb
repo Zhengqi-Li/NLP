{
 "cells": [
  {
   "cell_type": "code",
   "execution_count": 16,
   "metadata": {},
   "outputs": [],
   "source": [
    "import numpy as np\n",
    "import pandas as pd\n",
    "from sklearn.preprocessing import minmax_scale\n",
    "from sklearn.metrics import roc_curve,auc,roc_auc_score"
   ]
  },
  {
   "cell_type": "code",
   "execution_count": 17,
   "metadata": {},
   "outputs": [],
   "source": [
    "import os\n",
    "os.chdir('/Users/lizhengqi/Downloads')"
   ]
  },
  {
   "cell_type": "code",
   "execution_count": 28,
   "metadata": {},
   "outputs": [],
   "source": [
    "cnn = pd.read_csv('CNN.csv')\n",
    "cnn2 = pd.read_csv('CNN2.csv')\n",
    "gru = pd.read_csv('GRU.csv')\n",
    "lr = pd.read_csv('LR.csv')\n",
    "ridge = pd.read_csv('RIDGE.csv')\n",
    "grupool = pd.read_csv('GRUpool.csv')\n",
    "gru2 = pd.read_csv('GRU2.csv')\n",
    "labels = [\"toxic\", \"severe_toxic\", \"obscene\", \"threat\", \"insult\", \"identity_hate\"]\n",
    "for label in labels:\n",
    "    cnn[label] = minmax_scale(cnn[label])\n",
    "    gru[label] = minmax_scale(gru[label])\n",
    "    lr[label] = minmax_scale(lr[label])\n",
    "    ridge[label] = minmax_scale(ridge[label])\n",
    "    grupool[label] = minmax_scale(grupool[label])\n",
    "    gru2[label] = minmax_scale(gru2[label])\n",
    "blend_model = pd.DataFrame()\n",
    "blend_model['id'] = cnn['id']"
   ]
  },
  {
   "cell_type": "code",
   "execution_count": 51,
   "metadata": {},
   "outputs": [
    {
     "name": "stdout",
     "output_type": "stream",
     "text": [
      "final score is 0.9849\n"
     ]
    }
   ],
   "source": [
    "blend_model[labels] = cnn2[labels] + gru2[labels] + grupool[labels] + cnn[labels]\n",
    "#                          cnn[labels]   # 0.9829\n",
    "#                        grupool[labels] # 0.9834\n",
    "#                         gru2[labels]   # 0.9839\n",
    "#                         gru[labels]    # 0.9827\n",
    "#                       cnn2[labels]     # 0.9840\n",
    "blend_model.to_csv('blend_all.csv', index=False)\n",
    "test_labels = pd.read_csv('test_labels.csv')\n",
    "real_test = test_labels[test_labels['toxic']>=0]\n",
    "score = roc_auc_score(real_test[labels], blend_model.iloc[real_test.index][labels])\n",
    "print('final score is {:.4f}'.format(score))\n",
    "\n"
   ]
  },
  {
   "cell_type": "markdown",
   "metadata": {},
   "source": [
    "* GRU still need training, it has potentials\n",
    "* make average of all models\n",
    "* try more"
   ]
  },
  {
   "cell_type": "code",
   "execution_count": 49,
   "metadata": {},
   "outputs": [],
   "source": [
    "cnn = pd.read_csv('1.csv')\n",
    "# gru = pd.read_csv('GRU_blend.csv')\n",
    "gru = pd.read_csv('2.csv')\n",
    "lr = pd.read_csv('3.csv')\n",
    "labels = [\"toxic\", \"severe_toxic\", \"obscene\", \"threat\", \"insult\", \"identity_hate\"]\n",
    "for label in labels:\n",
    "    cnn[label] = minmax_scale(cnn[label])\n",
    "    gru[label] = minmax_scale(gru[label])\n",
    "    lr[label] = minmax_scale(lr[label])\n",
    "blend_model = pd.DataFrame()\n",
    "blend_model['id'] = cnn['id']\n",
    "blend_model[labels] = cnn[labels] + gru[labels] + lr[labels]\n",
    "blend_model.to_csv('123.csv', index=False)\n",
    "\n",
    "\n"
   ]
  },
  {
   "cell_type": "code",
   "execution_count": null,
   "metadata": {},
   "outputs": [],
   "source": []
  }
 ],
 "metadata": {
  "kernelspec": {
   "display_name": "Python 3",
   "language": "python",
   "name": "python3"
  },
  "language_info": {
   "codemirror_mode": {
    "name": "ipython",
    "version": 3
   },
   "file_extension": ".py",
   "mimetype": "text/x-python",
   "name": "python",
   "nbconvert_exporter": "python",
   "pygments_lexer": "ipython3",
   "version": "3.6.6"
  }
 },
 "nbformat": 4,
 "nbformat_minor": 2
}
